{
 "cells": [
  {
   "attachments": {},
   "cell_type": "markdown",
   "id": "488f5d9f",
   "metadata": {},
   "source": [
    "## Dummy Testing\n"
   ]
  },
  {
   "cell_type": "code",
   "execution_count": 2,
   "id": "456d5b37-67f3-4d0b-bd78-ccd81c5030dc",
   "metadata": {},
   "outputs": [],
   "source": [
    "from utils import *\n",
    "from data_validation_checks import *\n",
    "from constants import *\n",
    "from city_tier_mapping import *\n",
    "from significant_categorical_level import *\n",
    "from schema import *\n",
    "from test_with_pytest import *"
   ]
  },
  {
   "cell_type": "code",
   "execution_count": 3,
   "id": "38140295-92a4-4250-8553-a6f0c99c03b0",
   "metadata": {},
   "outputs": [
    {
     "name": "stdout",
     "output_type": "stream",
     "text": [
      "DB Already Exists\n",
      "/home/Assignment/01_data_pipeline/scripts/Unit Test\n"
     ]
    },
    {
     "data": {
      "text/plain": [
       "'DB Exists'"
      ]
     },
     "execution_count": 3,
     "metadata": {},
     "output_type": "execute_result"
    }
   ],
   "source": [
    "build_dbs(DB_PATH, DB_FILE_NAME)"
   ]
  },
  {
   "cell_type": "code",
   "execution_count": 4,
   "id": "67031206-db29-430c-a45b-629b61a540cc",
   "metadata": {},
   "outputs": [
    {
     "name": "stdout",
     "output_type": "stream",
     "text": [
      "Reading csv file from data directory\n",
      "Replacing any null values present in 'toal_leads_dropped' and 'referred_lead' with 0\n",
      "Saving the processed dataframe in the db in a table named 'loaded_data\n"
     ]
    }
   ],
   "source": [
    "load_data_into_db(DB_PATH, DB_FILE_NAME, DATA_DIRECTORY)"
   ]
  },
  {
   "cell_type": "code",
   "execution_count": 5,
   "id": "6a2f0d1e-277e-4aa2-abc1-73ff820608f9",
   "metadata": {},
   "outputs": [
    {
     "name": "stdout",
     "output_type": "stream",
     "text": [
      "Connecting to database\n",
      "Reading data from loaded_data table\n",
      "loaded_data column length:  45\n",
      "raw_data_schema length:  45\n",
      "Raw datas schema is in line with the schema present in schema.py\n"
     ]
    }
   ],
   "source": [
    "raw_data_schema_check(DB_PATH, DB_FILE_NAME, raw_data_schema)"
   ]
  },
  {
   "cell_type": "code",
   "execution_count": 6,
   "id": "4c40cc83-990b-46de-8197-e41bcb5b138e",
   "metadata": {},
   "outputs": [
    {
     "name": "stdout",
     "output_type": "stream",
     "text": [
      "Connecting to database\n",
      "Reading data from loaded_data table\n",
      "Mapping cities to their tier\n",
      "Saving the processed dataframe in the db in a table named 'city_tier_mapped'\n",
      "Closing database connection\n"
     ]
    }
   ],
   "source": [
    "map_city_tier(DB_PATH, DB_FILE_NAME, city_tier_mapping)"
   ]
  },
  {
   "cell_type": "code",
   "execution_count": 7,
   "id": "62efee11-7a5c-431b-8887-7734b08d379f",
   "metadata": {},
   "outputs": [
    {
     "name": "stdout",
     "output_type": "stream",
     "text": [
      "Connecting to database\n",
      "Reading data from city_tier_mapped table\n",
      "Mapping all the unsignificant variables present in first_platform_c\n",
      "Mapping all the unsignificant variables present in first_utm_medium_c\n",
      "Mapping all the unsignificant variables present in first_utm_source_c\n",
      "Saving the processed dataframe in the db in a table named 'categorical_variables_mapped'\n",
      "Closing database connection\n"
     ]
    }
   ],
   "source": [
    "map_categorical_vars(DB_PATH, DB_FILE_NAME, list_platform, list_medium, list_source)"
   ]
  },
  {
   "cell_type": "code",
   "execution_count": 8,
   "id": "862a38d1-9579-4bff-a304-2a48e3c6ab82",
   "metadata": {},
   "outputs": [
    {
     "name": "stdout",
     "output_type": "stream",
     "text": [
      "Connecting to database\n",
      "Reading data from categorical_variables_mapped table\n",
      "Reading interaction_mapping from categorical_variables_mapped table\n",
      "Unpivoting the interaction columns and put the values in rows\n",
      "Handling the nulls in the interaction value column\n",
      "Mapping interaction type column with the mapping file to get interaction mapping\n",
      "Dropping the interaction type column as it is not needed\n",
      "Pivoting the interaction mapping column values to individual columns in the dataset\n",
      "Saving the processed dataframe in the db in a table named 'interactions_mapped'\n",
      "Closing database connection\n"
     ]
    }
   ],
   "source": [
    "interactions_mapping(DB_PATH, DB_FILE_NAME, INTERACTION_MAPPING, INDEX_COLUMNS)"
   ]
  },
  {
   "cell_type": "code",
   "execution_count": 9,
   "id": "ee3d89e6-cff4-4190-a1ef-5c3e7fc80551",
   "metadata": {},
   "outputs": [
    {
     "name": "stdout",
     "output_type": "stream",
     "text": [
      "Connecting to database\n",
      "Reading data from interactions_mapped table\n",
      "interactions_mapped column length:  13\n",
      "raw_data_schema length:  7\n",
      "Models input schema is in line with the schema present in schema.py\n"
     ]
    }
   ],
   "source": [
    "model_input_schema_check(DB_PATH, DB_FILE_NAME, model_input_schema)"
   ]
  },
  {
   "cell_type": "code",
   "execution_count": null,
   "id": "04475a71-0428-491e-ab3c-a70beaea3801",
   "metadata": {},
   "outputs": [],
   "source": []
  }
 ],
 "metadata": {
  "kernelspec": {
   "display_name": "Python 3 (ipykernel)",
   "language": "python",
   "name": "python3"
  },
  "language_info": {
   "codemirror_mode": {
    "name": "ipython",
    "version": 3
   },
   "file_extension": ".py",
   "mimetype": "text/x-python",
   "name": "python",
   "nbconvert_exporter": "python",
   "pygments_lexer": "ipython3",
   "version": "3.8.12"
  }
 },
 "nbformat": 4,
 "nbformat_minor": 5
}
